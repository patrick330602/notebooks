{
 "cells": [
  {
   "cell_type": "markdown",
   "metadata": {
    "colab_type": "text",
    "id": "TvujEN2QyCMZ"
   },
   "source": [
    "# Loading The Data"
   ]
  },
  {
   "cell_type": "code",
   "execution_count": 1,
   "metadata": {
    "colab": {},
    "colab_type": "code",
    "id": "g4p9Fg6RVxf3"
   },
   "outputs": [
    {
     "name": "stdout",
     "output_type": "stream",
     "text": [
      "Downloading data from https://storage.googleapis.com/tensorflow/tf-keras-datasets/train-labels-idx1-ubyte.gz\n",
      "32768/29515 [=================================] - 0s 0us/step\n",
      "Downloading data from https://storage.googleapis.com/tensorflow/tf-keras-datasets/train-images-idx3-ubyte.gz\n",
      "26427392/26421880 [==============================] - 8s 0us/step\n",
      "Downloading data from https://storage.googleapis.com/tensorflow/tf-keras-datasets/t10k-labels-idx1-ubyte.gz\n",
      "8192/5148 [===============================================] - 0s 0us/step\n",
      "Downloading data from https://storage.googleapis.com/tensorflow/tf-keras-datasets/t10k-images-idx3-ubyte.gz\n",
      "4423680/4422102 [==============================] - 1s 0us/step\n"
     ]
    }
   ],
   "source": [
    "import tensorflow as tf\n",
    "import matplotlib.pyplot as plt\n",
    "import numpy as np\n",
    "from sklearn.utils import shuffle\n",
    "\n",
    "\n",
    "(x_train_raw, y_train_raw), (x_test_raw, y_test_raw) = tf.keras.datasets.fashion_mnist.load_data()\n"
   ]
  },
  {
   "cell_type": "code",
   "execution_count": 2,
   "metadata": {
    "colab": {
     "base_uri": "https://localhost:8080/",
     "height": 34
    },
    "colab_type": "code",
    "executionInfo": {
     "elapsed": 689,
     "status": "ok",
     "timestamp": 1540793527177,
     "user": {
      "displayName": "Sepanta Zeighami",
      "photoUrl": "",
      "userId": "03655420998622290380"
     },
     "user_tz": -480
    },
    "id": "p9q4M5qq6P2U",
    "outputId": "327ae351-ca09-4620-f1c1-e0d68f7917a9"
   },
   "outputs": [
    {
     "data": {
      "text/plain": [
       "((60000, 28, 28), (60000,), (10000, 28, 28), (10000,))"
      ]
     },
     "execution_count": 2,
     "metadata": {},
     "output_type": "execute_result"
    }
   ],
   "source": [
    "x_train_raw.shape, y_train_raw.shape, x_test_raw.shape, y_test_raw.shape"
   ]
  },
  {
   "cell_type": "code",
   "execution_count": 3,
   "metadata": {
    "colab": {
     "base_uri": "https://localhost:8080/",
     "height": 364
    },
    "colab_type": "code",
    "executionInfo": {
     "elapsed": 671,
     "status": "ok",
     "timestamp": 1540793528639,
     "user": {
      "displayName": "Sepanta Zeighami",
      "photoUrl": "",
      "userId": "03655420998622290380"
     },
     "user_tz": -480
    },
    "id": "Wiqw6GEu6w4M",
    "outputId": "0f2d311a-011c-444c-ad12-3dd1c0e6508c"
   },
   "outputs": [
    {
     "data": {
      "text/plain": [
       "<matplotlib.image.AxesImage at 0x7fc5a6e7c278>"
      ]
     },
     "execution_count": 3,
     "metadata": {},
     "output_type": "execute_result"
    },
    {
     "data": {
      "image/png": "[encoded data removed]",
      "text/plain": [
       "<Figure size 432x288 with 1 Axes>"
      ]
     },
     "metadata": {
      "needs_background": "light"
     },
     "output_type": "display_data"
    }
   ],
   "source": [
    "plt.imshow(x_train_raw[100])"
   ]
  },
  {
   "cell_type": "code",
   "execution_count": 4,
   "metadata": {
    "colab": {},
    "colab_type": "code",
    "id": "0DWw8vTm_39m"
   },
   "outputs": [],
   "source": [
    "x_train = np.reshape(x_train_raw, [x_train_raw.shape[0], x_train_raw.shape[1]*x_train_raw.shape[2]])\n",
    "x_test = np.reshape(x_test_raw, [x_test_raw.shape[0], x_test_raw.shape[1]*x_test_raw.shape[2]])\n",
    "\n",
    "n_values = np.max(y_train_raw) + 1\n",
    "y_train_onehot = np.eye(n_values)[y_train_raw]\n",
    "y_test_onehot = np.eye(n_values)[y_test_raw]\n",
    "\n"
   ]
  },
  {
   "cell_type": "code",
   "execution_count": 5,
   "metadata": {
    "colab": {},
    "colab_type": "code",
    "id": "gAiGoxawdnNK"
   },
   "outputs": [],
   "source": [
    "#Run the commented lines if you are using Colab for running the code. Ignore it if you are running Jupyter Notebook locally\n",
    "#!wget https://bin.equinox.io/c/4VmDzA7iaHb/ngrok-stable-linux-amd64.zip\n",
    "#!unzip ngrok-stable-linux-amd64.zip\n",
    "\n",
    "LOG_DIR = './log/'\n",
    "get_ipython().system_raw(\n",
    "    'tensorboard --logdir {} --host 0.0.0.0 --port 6006 &'\n",
    "    .format(LOG_DIR)\n",
    ")\n",
    "\n",
    "#get_ipython().system_raw('./ngrok http 6006 &')\n",
    "\n",
    "#! curl -s http://localhost:4040/api/tunnels | python3 -c \\\n",
    "#    \"import sys, json; print(json.load(sys.stdin)['tunnels'][0]['public_url'])\""
   ]
  },
  {
   "cell_type": "markdown",
   "metadata": {
    "colab_type": "text",
    "id": "iYKKR3EyyG7N"
   },
   "source": [
    "# Getting Started with Tensorflow"
   ]
  },
  {
   "cell_type": "code",
   "execution_count": 6,
   "metadata": {
    "colab": {},
    "colab_type": "code",
    "id": "nLOid7OtzJpl"
   },
   "outputs": [],
   "source": [
    "#Tensorflow creates a computation graph first for the computations you want to perform.\n",
    "#consider a function that does simple addition and multiplication\n",
    "#For instace we want to compute a = (2b+c), where b = 2 and c = 3 \n",
    "g1 = tf.Graph()\n",
    "with g1.as_default():\n",
    "  b = tf.constant(2, name=\"b\")\n",
    "  c = tf.constant(3, name=\"c\")\n",
    "  a = tf.math.add(tf.scalar_mul(2,b), c)\n"
   ]
  },
  {
   "cell_type": "code",
   "execution_count": 7,
   "metadata": {
    "colab": {
     "base_uri": "https://localhost:8080/",
     "height": 34
    },
    "colab_type": "code",
    "executionInfo": {
     "elapsed": 670,
     "status": "ok",
     "timestamp": 1540793547394,
     "user": {
      "displayName": "Sepanta Zeighami",
      "photoUrl": "",
      "userId": "03655420998622290380"
     },
     "user_tz": -480
    },
    "id": "j3hM6OPT0liY",
    "outputId": "b38abbb3-ff64-4851-ab5b-8b094a98aee1"
   },
   "outputs": [
    {
     "name": "stdout",
     "output_type": "stream",
     "text": [
      "7\n"
     ]
    }
   ],
   "source": [
    "#Then, we can execute the computation graph in a session\n",
    "with tf.Session(graph=g1) as sess:\n",
    "  writer = tf.summary.FileWriter(\"./log/graph_addition\", sess.graph) #to visualize the graph\n",
    "  a_val = sess.run(a) #executing the graph. The items you want to evaluate are passed as arguements to the function\n",
    "  print(a_val)\n",
    "  writer.close()"
   ]
  },
  {
   "cell_type": "code",
   "execution_count": 8,
   "metadata": {
    "colab": {
     "base_uri": "https://localhost:8080/",
     "height": 34
    },
    "colab_type": "code",
    "executionInfo": {
     "elapsed": 672,
     "status": "ok",
     "timestamp": 1540793548848,
     "user": {
      "displayName": "Sepanta Zeighami",
      "photoUrl": "",
      "userId": "03655420998622290380"
     },
     "user_tz": -480
    },
    "id": "SMhUoeil3obl",
    "outputId": "e0a98049-725e-4cad-afcd-4ce7173fa9e0"
   },
   "outputs": [
    {
     "name": "stdout",
     "output_type": "stream",
     "text": [
      "7.0\n"
     ]
    }
   ],
   "source": [
    "#What if we want to pass the value to the constants b and c when executing the graph?\n",
    "#We use place_holders instead of hardcoding the values when making the graph and pass the values to the place_holders when running the graph\n",
    "g2 = tf.Graph()\n",
    "with g2.as_default():\n",
    "  b = tf.placeholder(dtype=tf.float32, shape=(), name='b')\n",
    "  c = tf.placeholder(dtype=tf.float32, shape=(), name='c')\n",
    "  a = tf.math.add(tf.scalar_mul(2,b), c)\n",
    "\n",
    "with tf.Session(graph=g2) as sess:\n",
    "  writer = tf.summary.FileWriter(\"./log/graph_addition2\", sess.graph) #to visualize the graph\n",
    "  a_val = sess.run(a, feed_dict={b:2, c:3}) \n",
    "  print(a_val)\n",
    "  writer.close()\n"
   ]
  },
  {
   "cell_type": "markdown",
   "metadata": {
    "colab_type": "text",
    "id": "kc2MmQGU2qlu"
   },
   "source": [
    "# Multi-Class Classification with a Single Layer"
   ]
  },
  {
   "cell_type": "code",
   "execution_count": 9,
   "metadata": {
    "colab": {},
    "colab_type": "code",
    "id": "Ywze2HxB64UQ"
   },
   "outputs": [
    {
     "name": "stdout",
     "output_type": "stream",
     "text": [
      "WARNING:tensorflow:From <ipython-input-9-79cf31f2c70c>:13: softmax_cross_entropy_with_logits (from tensorflow.python.ops.nn_ops) is deprecated and will be removed in a future version.\n",
      "Instructions for updating:\n",
      "\n",
      "Future major versions of TensorFlow will allow gradients to flow\n",
      "into the labels input on backprop by default.\n",
      "\n",
      "See `tf.nn.softmax_cross_entropy_with_logits_v2`.\n",
      "\n"
     ]
    }
   ],
   "source": [
    "#Creating the computation graph for the model here.\n",
    "g3 = tf.Graph()\n",
    "with g3.as_default():\n",
    "  x = tf.placeholder(dtype=tf.float64, shape=[None, int(x_train.shape[1])], name='x')\n",
    "  y = tf.placeholder(dtype=tf.float64, shape=[None, int(y_train_onehot.shape[1])], name='y')\n",
    "  #tf.cast(tf.constant(np.reshape(x_train[0], [1, int(x_train[0].shape[0])]), name=\"x\"), tf.float64)\n",
    "  \n",
    "  W = tf.Variable(np.random.rand(int(x.shape[1]), 10), name=\"W\")\n",
    "  b = tf.Variable(np.random.rand(10), name=\"b\")\n",
    "\n",
    "  # Construct a linear model\n",
    "  net_out = tf.matmul(x, W) + b\n",
    "  loss = tf.reduce_mean(tf.nn.softmax_cross_entropy_with_logits(labels=y, logits=net_out))\n",
    "  optimizer = tf.train.GradientDescentOptimizer(learning_rate=0.1).minimize(loss)\n",
    "  \n",
    "  correct_pred = tf.equal(tf.argmax(net_out, 1), tf.argmax(y, 1))\n",
    "  accuracy = tf.reduce_mean(tf.cast(correct_pred, tf.float32), name='accuracy')\n"
   ]
  },
  {
   "cell_type": "code",
   "execution_count": 10,
   "metadata": {
    "colab": {
     "base_uri": "https://localhost:8080/",
     "height": 187
    },
    "colab_type": "code",
    "executionInfo": {
     "elapsed": 10917,
     "status": "ok",
     "timestamp": 1540793563566,
     "user": {
      "displayName": "Sepanta Zeighami",
      "photoUrl": "",
      "userId": "03655420998622290380"
     },
     "user_tz": -480
    },
    "id": "HC3fh4LqsgRQ",
    "outputId": "061244ee-12b8-4ebc-f06e-8fd65fc589a3"
   },
   "outputs": [
    {
     "name": "stdout",
     "output_type": "stream",
     "text": [
      "0.7271000011973083\n",
      "0.7732000016272068\n",
      "0.7800333352088928\n",
      "0.785166667342186\n",
      "0.7936166678667068\n",
      "0.7920333340167999\n",
      "0.7959000014066696\n",
      "0.792716669023037\n",
      "0.7953000013232231\n",
      "0.7984666678309441\n"
     ]
    }
   ],
   "source": [
    "no_epochs = 10\n",
    "no_minibatches = 1000\n",
    "minibatch_size = int(x_train.shape[0]/no_minibatches)\n",
    "sum_accuracy_val=0\n",
    "with tf.Session(graph=g3) as sess:\n",
    "  sess.run(tf.global_variables_initializer())\n",
    "  writer = tf.summary.FileWriter(\"./log/graph_single\", sess.graph)\n",
    "  for j in range(no_epochs):\n",
    "    x_train, y_train_onehot = shuffle(x_train, y_train_onehot)    \n",
    "    for i in range(no_minibatches):\n",
    "      x_batch = x_train[i*minibatch_size:(i+1)*minibatch_size]\n",
    "      y_batch = y_train_onehot[i*minibatch_size:(i+1)*minibatch_size]\n",
    "      _, accuracy_val = sess.run([optimizer, accuracy], feed_dict={x:x_batch, y:y_batch})\n",
    "      sum_accuracy_val = sum_accuracy_val + accuracy_val \n",
    "      \n",
    "    print(sum_accuracy_val/no_minibatches)\n",
    "    sum_accuracy_val=0\n",
    "\n",
    "  writer.close()"
   ]
  },
  {
   "cell_type": "markdown",
   "metadata": {
    "colab_type": "text",
    "id": "e7X0cNytWKob"
   },
   "source": [
    "# Using the Building Blocks"
   ]
  },
  {
   "cell_type": "code",
   "execution_count": 11,
   "metadata": {
    "colab": {},
    "colab_type": "code",
    "id": "CvSnNkmKMjyM"
   },
   "outputs": [],
   "source": [
    "g4 = tf.Graph()\n",
    "with g4.as_default():\n",
    "  x = tf.placeholder(dtype=tf.float64, shape=[None, int(x_train.shape[1])], name='x')\n",
    "  y = tf.placeholder(dtype=tf.float64, shape=[None, int(y_train_onehot.shape[1])], name='y')\n",
    "\n",
    "  layer1 = tf.layers.dense(\n",
    "      x,\n",
    "      y.shape[1],\n",
    "      activation=None)\n",
    " \n",
    "\n",
    "  loss = tf.reduce_mean(tf.nn.softmax_cross_entropy_with_logits(labels=y, logits=layer1))\n",
    "  optimizer = tf.train.GradientDescentOptimizer(learning_rate=0.1).minimize(loss)\n",
    "  \n",
    "  correct_pred = tf.equal(tf.argmax(layer1, 1), tf.argmax(y, 1))\n",
    "  accuracy = tf.reduce_mean(tf.cast(correct_pred, tf.float32), name='accuracy')\n"
   ]
  },
  {
   "cell_type": "code",
   "execution_count": 12,
   "metadata": {
    "colab": {
     "base_uri": "https://localhost:8080/",
     "height": 187
    },
    "colab_type": "code",
    "executionInfo": {
     "elapsed": 10876,
     "status": "ok",
     "timestamp": 1540793610365,
     "user": {
      "displayName": "Sepanta Zeighami",
      "photoUrl": "",
      "userId": "03655420998622290380"
     },
     "user_tz": -480
    },
    "id": "lEgAjBW8X3n8",
    "outputId": "6ea6ea62-3f76-40c0-dc33-8b06e22038d8"
   },
   "outputs": [
    {
     "name": "stdout",
     "output_type": "stream",
     "text": [
      "0.7308166679777205\n",
      "0.7749500009715558\n",
      "0.7807166676521301\n",
      "0.7853166683912277\n",
      "0.7914833349585533\n",
      "0.788533334493637\n",
      "0.7937500016093254\n",
      "0.794400001347065\n",
      "0.7965333333611488\n",
      "0.7965166686177254\n"
     ]
    }
   ],
   "source": [
    "no_epochs = 10\n",
    "no_minibatches = 1000\n",
    "minibatch_size = int(x_train.shape[0]/no_minibatches)\n",
    "sum_accuracy_val=0\n",
    "with tf.Session(graph=g4) as sess:\n",
    "  sess.run(tf.global_variables_initializer())\n",
    "  writer = tf.summary.FileWriter(\"./log/graph_single2\", sess.graph)\n",
    "  for j in range(no_epochs):\n",
    "    x_train, y_train_onehot = shuffle(x_train, y_train_onehot)\n",
    "    for i in range(no_minibatches):\n",
    "      x_batch = x_train[i*minibatch_size:(i+1)*minibatch_size]\n",
    "      y_batch = y_train_onehot[i*minibatch_size:(i+1)*minibatch_size]\n",
    "      _, accuracy_val = sess.run([optimizer, accuracy], feed_dict={x:x_batch, y:y_batch})\n",
    "      sum_accuracy_val = sum_accuracy_val + accuracy_val \n",
    "      \n",
    "    print(sum_accuracy_val/no_minibatches)\n",
    "    sum_accuracy_val=0\n",
    "\n",
    "  writer.close()"
   ]
  },
  {
   "cell_type": "markdown",
   "metadata": {
    "colab_type": "text",
    "id": "Ml9ZrB5TYlos"
   },
   "source": [
    "# Using Multiple Hidden Layers"
   ]
  },
  {
   "cell_type": "code",
   "execution_count": 13,
   "metadata": {
    "colab": {},
    "colab_type": "code",
    "id": "DVSPlrKuYk86"
   },
   "outputs": [],
   "source": [
    "g5 = tf.Graph()\n",
    "with g5.as_default():\n",
    "  x = tf.placeholder(dtype=tf.float64, shape=[None, int(x_train.shape[1])], name='x')\n",
    "  y = tf.placeholder(dtype=tf.float64, shape=[None, int(y_train_onehot.shape[1])], name='y')\n",
    "\n",
    "  hidden_dim = 256\n",
    "  layer1 = tf.layers.dense(\n",
    "      x,\n",
    "      hidden_dim,\n",
    "      activation=tf.nn.relu)\n",
    "\n",
    "  layer2 = tf.layers.dense(\n",
    "      layer1,\n",
    "      hidden_dim,\n",
    "      activation=tf.nn.relu)\n",
    "\n",
    "  layer3 = tf.layers.dense(\n",
    "      layer2,\n",
    "      y.shape[1],\n",
    "      activation=None)\n",
    "\n",
    "  loss = tf.reduce_mean(tf.nn.softmax_cross_entropy_with_logits(labels=y, logits=layer3))\n",
    "  optimizer = tf.train.AdamOptimizer().minimize(loss)\n",
    "  \n",
    "  correct_pred = tf.equal(tf.argmax(layer3, 1), tf.argmax(y, 1))\n",
    "  accuracy = tf.reduce_mean(tf.cast(correct_pred, tf.float32), name='accuracy')\n"
   ]
  },
  {
   "cell_type": "code",
   "execution_count": 14,
   "metadata": {
    "colab": {
     "base_uri": "https://localhost:8080/",
     "height": 8517
    },
    "colab_type": "code",
    "executionInfo": {
     "elapsed": 539,
     "status": "ok",
     "timestamp": 1540793089065,
     "user": {
      "displayName": "Sepanta Zeighami",
      "photoUrl": "",
      "userId": "03655420998622290380"
     },
     "user_tz": -480
    },
    "id": "zJpFD0ZqW29m",
    "outputId": "c10187d3-3fa3-4525-f4f5-91153ac15926",
    "scrolled": false
   },
   "outputs": [
    {
     "name": "stdout",
     "output_type": "stream",
     "text": [
      "0.7476500006914139\n",
      "0.8018833344578743\n",
      "0.817066668510437\n",
      "0.8267166687250137\n",
      "0.8325333350300789\n",
      "0.8409666683673859\n",
      "0.8479166685342788\n",
      "0.8568166674375534\n",
      "0.8625333336591721\n",
      "0.8673500007987023\n",
      "0.8703333335518837\n",
      "0.872016666650772\n",
      "0.8751833338737488\n",
      "0.8775666663050652\n",
      "0.8788499994874001\n",
      "0.8813166648745537\n",
      "0.879249999821186\n",
      "0.882533333003521\n",
      "0.8843999996185302\n",
      "0.884916665494442\n",
      "0.8852666652202607\n",
      "0.8845833328962326\n",
      "0.8864833317399025\n",
      "0.8887999994158745\n",
      "0.8894499994516373\n",
      "0.8881999988555909\n",
      "0.8914166658520698\n",
      "0.8904833324551582\n",
      "0.8901333313584328\n",
      "0.8874999985098839\n",
      "0.8884500002861023\n",
      "0.8935166652798653\n",
      "0.893066664993763\n",
      "0.893783331990242\n",
      "0.8929333313703537\n",
      "0.8958333320617676\n",
      "0.8967999993562699\n",
      "0.8964333319067955\n",
      "0.8952333317995071\n",
      "0.8972833316326141\n",
      "0.8959666656851768\n",
      "0.8982999992966652\n",
      "0.8977666656374932\n",
      "0.8976833328008652\n",
      "0.8990999978780746\n",
      "0.8991833319664001\n",
      "0.8985166658759117\n",
      "0.9002333309054374\n",
      "0.9009999986290932\n",
      "0.8996666659712791\n"
     ]
    }
   ],
   "source": [
    "no_epochs = 50\n",
    "no_minibatches = 1000\n",
    "minibatch_size = int(x_train.shape[0]/no_minibatches)\n",
    "sum_accuracy_val=0\n",
    "test_accuracies = []\n",
    "train_accuracies = []\n",
    "with tf.Session(graph=g5) as sess:\n",
    "  sess.run(tf.global_variables_initializer())\n",
    "  writer = tf.summary.FileWriter(\"./log/graph_3layers\", sess.graph)\n",
    "  for j in range(no_epochs):\n",
    "    x_train, y_train_onehot = shuffle(x_train, y_train_onehot)\n",
    "    for i in range(no_minibatches):\n",
    "      x_batch = x_train[i*minibatch_size:(i+1)*minibatch_size]\n",
    "      y_batch = y_train_onehot[i*minibatch_size:(i+1)*minibatch_size]\n",
    "      _, accuracy_val = sess.run([optimizer, accuracy], feed_dict={x:x_batch, y:y_batch})\n",
    "      sum_accuracy_val = sum_accuracy_val + accuracy_val \n",
    "      \n",
    "    test_accuracy_val = sess.run([accuracy], feed_dict={x:x_test, y:y_test_onehot}) #Do not run optimizer on test set!\n",
    "    test_accuracies.append(test_accuracy_val)\n",
    "      \n",
    "    print(sum_accuracy_val/no_minibatches)\n",
    "    train_accuracies.append(sum_accuracy_val/no_minibatches)\n",
    "    sum_accuracy_val=0\n",
    "\n",
    "  writer.close()"
   ]
  },
  {
   "cell_type": "code",
   "execution_count": 15,
   "metadata": {
    "colab": {
     "base_uri": "https://localhost:8080/",
     "height": 361
    },
    "colab_type": "code",
    "executionInfo": {
     "elapsed": 1383,
     "status": "ok",
     "timestamp": 1540793093767,
     "user": {
      "displayName": "Sepanta Zeighami",
      "photoUrl": "",
      "userId": "03655420998622290380"
     },
     "user_tz": -480
    },
    "id": "QCkXXTz0Fc5S",
    "outputId": "ad8a5bb3-2f29-452b-f4cc-15775eccb58d"
   },
   "outputs": [
    {
     "data": {
      "image/png": "[encoded data removed]",
      "text/plain": [
       "<Figure size 432x288 with 1 Axes>"
      ]
     },
     "metadata": {
      "needs_background": "light"
     },
     "output_type": "display_data"
    }
   ],
   "source": [
    "import matplotlib.pyplot as plt\n",
    "plt.plot(range(no_epochs), train_accuracies, label='train')\n",
    "plt.plot(range(no_epochs), test_accuracies)\n",
    "plt.xlabel('no epochs')\n",
    "plt.ylabel('accuracy')\n",
    "plt.legend(['training', 'testing'], loc='upper left')\n",
    "\n",
    "plt.show()"
   ]
  },
  {
   "cell_type": "code",
   "execution_count": null,
   "metadata": {
    "colab": {},
    "colab_type": "code",
    "id": "MrbEwGA8Fk-C"
   },
   "outputs": [],
   "source": [
    "\n"
   ]
  }
 ],
 "metadata": {
  "colab": {
   "collapsed_sections": [],
   "name": "T05_Tensorflow.ipynb",
   "provenance": [],
   "version": "0.3.2"
  },
  "kernelspec": {
   "display_name": "Python 3",
   "language": "python",
   "name": "python3"
  },
  "language_info": {
   "codemirror_mode": {
    "name": "ipython",
    "version": 3
   },
   "file_extension": ".py",
   "mimetype": "text/x-python",
   "name": "python",
   "nbconvert_exporter": "python",
   "pygments_lexer": "ipython3",
   "version": "3.6.6"
  }
 },
 "nbformat": 4,
 "nbformat_minor": 1
}
