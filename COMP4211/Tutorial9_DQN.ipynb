{
 "cells": [
  {
   "cell_type": "markdown",
   "metadata": {
    "colab_type": "text",
    "id": "qeSRAZOJNPdF"
   },
   "source": [
    "# Deep Q-Networks\n",
    "[Based on @MorvanZhou tutorial on github](https://github.com/MorvanZhou/Reinforcement-learning-with-tensorflow)"
   ]
  },
  {
   "cell_type": "markdown",
   "metadata": {
    "colab_type": "text",
    "id": "2RnytRGcNpoQ"
   },
   "source": [
    "In this tutorial we implement Deep Q-Networks and run the model in OpenAI's MountainCar-v0 environment \n",
    "\n",
    "\n",
    "![alt text](https://cdn-images-1.medium.com/max/1200/1*8coZ4g_pRtfyoHmsuzMH6g.png)"
   ]
  },
  {
   "cell_type": "code",
   "execution_count": 1,
   "metadata": {
    "colab": {},
    "colab_type": "code",
    "id": "KLz2Dj6C3dq1"
   },
   "outputs": [
    {
     "name": "stdout",
     "output_type": "stream",
     "text": [
      "Requirement already satisfied: gym in c:\\users\\patrick\\envs\\course\\lib\\site-packages (0.9.4)\n",
      "Requirement already satisfied: six in c:\\users\\patrick\\envs\\course\\lib\\site-packages (from gym) (1.11.0)\n",
      "Requirement already satisfied: numpy>=1.10.4 in c:\\users\\patrick\\envs\\course\\lib\\site-packages (from gym) (1.15.4)\n",
      "Requirement already satisfied: requests>=2.0 in c:\\users\\patrick\\envs\\course\\lib\\site-packages (from gym) (2.20.1)\n",
      "Requirement already satisfied: pyglet>=1.2.0 in c:\\users\\patrick\\envs\\course\\lib\\site-packages (from gym) (1.3.2)\n",
      "Requirement already satisfied: chardet<3.1.0,>=3.0.2 in c:\\users\\patrick\\envs\\course\\lib\\site-packages (from requests>=2.0->gym) (3.0.4)\n",
      "Requirement already satisfied: idna<2.8,>=2.5 in c:\\users\\patrick\\envs\\course\\lib\\site-packages (from requests>=2.0->gym) (2.7)\n",
      "Requirement already satisfied: urllib3<1.25,>=1.21.1 in c:\\users\\patrick\\envs\\course\\lib\\site-packages (from requests>=2.0->gym) (1.24.1)\n",
      "Requirement already satisfied: certifi>=2017.4.17 in c:\\users\\patrick\\envs\\course\\lib\\site-packages (from requests>=2.0->gym) (2018.10.15)\n",
      "Requirement already satisfied: future in c:\\users\\patrick\\envs\\course\\lib\\site-packages (from pyglet>=1.2.0->gym) (0.17.1)\n"
     ]
    }
   ],
   "source": [
    "#Installing OpenAI gym environment (https://github.com/openai/gym)\n",
    "!pip install gym"
   ]
  },
  {
   "cell_type": "code",
   "execution_count": 2,
   "metadata": {
    "colab": {},
    "colab_type": "code",
    "id": "n6QfMhnTOIEz"
   },
   "outputs": [],
   "source": [
    "import numpy as np\n",
    "import pandas as pd\n",
    "import tensorflow as tf\n",
    "\n",
    "np.random.seed(1)\n",
    "tf.set_random_seed(1)\n",
    "\n",
    "\n",
    "# Deep Q Network off-policy\n",
    "class DeepQNetwork:\n",
    "    def __init__(\n",
    "            self,\n",
    "            n_actions,\n",
    "            n_features,\n",
    "            learning_rate=0.01,\n",
    "            reward_decay=0.9,\n",
    "            e_greedy=0.9,\n",
    "            replace_target_iter=300,\n",
    "            memory_size=500,\n",
    "            batch_size=32,\n",
    "            e_greedy_increment=None,\n",
    "            output_graph=False,\n",
    "    ):\n",
    "        self.n_actions = n_actions\n",
    "        self.n_features = n_features\n",
    "        self.lr = learning_rate\n",
    "        self.gamma = reward_decay\n",
    "        self.epsilon_max = e_greedy\n",
    "        self.replace_target_iter = replace_target_iter\n",
    "        self.memory_size = memory_size\n",
    "        self.batch_size = batch_size\n",
    "        self.epsilon_increment = e_greedy_increment\n",
    "        self.epsilon = 0 if e_greedy_increment is not None else self.epsilon_max\n",
    "\n",
    "        # total learning step\n",
    "        self.learn_step_counter = 0\n",
    "\n",
    "        # initialize zero memory [s, a, r, s_]\n",
    "        self.memory = np.zeros((self.memory_size, n_features * 2 + 2))\n",
    "\n",
    "        # consist of [target_net, evaluate_net]\n",
    "        self._build_net()\n",
    "\n",
    "        self.sess = tf.Session()\n",
    "\n",
    "        if output_graph:\n",
    "            # $ tensorboard --logdir=logs\n",
    "            # tf.train.SummaryWriter soon be deprecated, use following\n",
    "            tf.summary.FileWriter(\"logs/\", self.sess.graph)\n",
    "\n",
    "        self.sess.run(tf.global_variables_initializer())\n",
    "\n",
    "    def _build_net(self):\n",
    "        # ------------------ build evaluate_net ------------------\n",
    "        self.s = tf.placeholder(tf.float32, [None, self.n_features], name='s')  # input\n",
    "        with tf.variable_scope('eval_net'):\n",
    "            # c_names(collections_names) are the collections to store variables\n",
    "            c_names, n_l1, w_initializer, b_initializer = \\\n",
    "                ['eval_net_params', tf.GraphKeys.GLOBAL_VARIABLES], 10, \\\n",
    "                tf.random_normal_initializer(0., 0.3), tf.constant_initializer(0.1)  # config of layers\n",
    "\n",
    "            # first layer. collections is used later when assign to target net\n",
    "            with tf.variable_scope('l1'):\n",
    "                w1 = tf.get_variable('w1', [self.n_features, n_l1], initializer=w_initializer, collections=c_names)\n",
    "                b1 = tf.get_variable('b1', [1, n_l1], initializer=b_initializer, collections=c_names)\n",
    "                l1 = tf.nn.relu(tf.matmul(self.s, w1) + b1)\n",
    "\n",
    "            # second layer. collections is used later when assign to target net\n",
    "            with tf.variable_scope('l2'):\n",
    "                w2 = tf.get_variable('w2', [n_l1, self.n_actions], initializer=w_initializer, collections=c_names)\n",
    "                b2 = tf.get_variable('b2', [1, self.n_actions], initializer=b_initializer, collections=c_names)\n",
    "                self.q_eval = tf.matmul(l1, w2) + b2\n",
    "\n",
    "        self.q_target = tf.placeholder(tf.float32, [None, self.n_actions], name='Q_target')  # for calculating loss\n",
    "        with tf.variable_scope('loss'):\n",
    "            self.loss = tf.reduce_mean(tf.squared_difference(self.q_target, self.q_eval))\n",
    "        with tf.variable_scope('train'):\n",
    "            self._train_op = tf.train.AdamOptimizer(self.lr).minimize(self.loss)\n",
    "\n",
    "        # ------------------ build target_net ------------------\n",
    "        self.s_ = tf.placeholder(tf.float32, [None, self.n_features], name='s_')    # input\n",
    "        with tf.variable_scope('target_net'):\n",
    "            # c_names(collections_names) are the collections to store variables\n",
    "            c_names = ['target_net_params', tf.GraphKeys.GLOBAL_VARIABLES]\n",
    "\n",
    "            # first layer. collections is used later when assign to target net\n",
    "            with tf.variable_scope('l1'):\n",
    "                w1 = tf.get_variable('w1', [self.n_features, n_l1], initializer=w_initializer, collections=c_names)\n",
    "                b1 = tf.get_variable('b1', [1, n_l1], initializer=b_initializer, collections=c_names)\n",
    "                l1 = tf.nn.relu(tf.matmul(self.s_, w1) + b1)\n",
    "\n",
    "            # second layer. collections is used later when assign to target net\n",
    "            with tf.variable_scope('l2'):\n",
    "                w2 = tf.get_variable('w2', [n_l1, self.n_actions], initializer=w_initializer, collections=c_names)\n",
    "                b2 = tf.get_variable('b2', [1, self.n_actions], initializer=b_initializer, collections=c_names)\n",
    "                self.q_next = tf.matmul(l1, w2) + b2\n",
    "\n",
    "    def store_transition(self, s, a, r, s_):\n",
    "        if not hasattr(self, 'memory_counter'):\n",
    "            self.memory_counter = 0\n",
    "\n",
    "        transition = np.hstack((s, [a, r], s_))\n",
    "\n",
    "        # replace the old memory with new memory\n",
    "        index = self.memory_counter % self.memory_size\n",
    "        self.memory[index, :] = transition\n",
    "\n",
    "        self.memory_counter += 1\n",
    "\n",
    "    def choose_action(self, observation):\n",
    "        # to have batch dimension when feed into tf placeholder\n",
    "        observation = observation[np.newaxis, :]\n",
    "\n",
    "        if np.random.uniform() < self.epsilon:\n",
    "            # forward feed the observation and get q value for every actions\n",
    "            actions_value = self.sess.run(self.q_eval, feed_dict={self.s: observation})\n",
    "            action = np.argmax(actions_value)\n",
    "        else:\n",
    "            action = np.random.randint(0, self.n_actions)\n",
    "        return action\n",
    "\n",
    "    def learn(self):\n",
    "        # check to replace target parameters\n",
    "        if self.learn_step_counter % self.replace_target_iter == 0:\n",
    "          t_params = tf.get_collection('target_net_params')\n",
    "          e_params = tf.get_collection('eval_net_params')\n",
    "          self.replace_target_op = [tf.assign(t, e) for t, e in zip(t_params, e_params)]\n",
    "\n",
    "          self.sess.run(self.replace_target_op)\n",
    "\n",
    "        # sample batch memory from all memory\n",
    "        if self.memory_counter > self.memory_size:\n",
    "            sample_index = np.random.choice(self.memory_size, size=self.batch_size)\n",
    "        else:\n",
    "            sample_index = np.random.choice(self.memory_counter, size=self.batch_size)\n",
    "        batch_memory = self.memory[sample_index, :]\n",
    "\n",
    "        q_next, q_eval = self.sess.run(\n",
    "            [self.q_next, self.q_eval],\n",
    "            feed_dict={\n",
    "                self.s_: batch_memory[:, -self.n_features:],  # state after transition\n",
    "                self.s: batch_memory[:, :self.n_features],  # state before transition\n",
    "            })\n",
    "\n",
    "\n",
    "        batch_index = np.arange(self.batch_size, dtype=np.int32)\n",
    "        eval_act_index = batch_memory[:, self.n_features].astype(int) #obtaining action performed\n",
    "        reward = batch_memory[:, self.n_features + 1] #obtaining reward for the action\n",
    "\n",
    "        # change q_target for actions taken\n",
    "        q_target = q_eval.copy()\n",
    "        q_target[batch_index, eval_act_index] = reward + self.gamma * np.max(q_next, axis=1)\n",
    "\n",
    "        \"\"\"\n",
    "        For example in this batch I have 2 samples and 3 actions:\n",
    "        q_eval =\n",
    "        [[1, 2, 3],\n",
    "         [4, 5, 6]]\n",
    "        q_target = q_eval =\n",
    "        [[1, 2, 3],\n",
    "         [4, 5, 6]]\n",
    "        Then change q_target with the real q_target value w.r.t the q_eval's action.\n",
    "        For example in:\n",
    "            sample 0, I took action 0, and the max q_target value is -1;\n",
    "            sample 1, I took action 2, and the max q_target value is -2:\n",
    "        q_target =\n",
    "        [[-1, 2, 3],\n",
    "         [4, 5, -2]]\n",
    "        So the (q_target - q_eval) becomes:\n",
    "        [[(-1)-(1), 0, 0],\n",
    "         [0, 0, (-2)-(6)]]\n",
    "        We then backpropagate this error w.r.t the corresponding action to network,\n",
    "        leave other action as error=0 cause we didn't choose it.\n",
    "        \"\"\"\n",
    "\n",
    "        # train eval network\n",
    "        _, self.loss_val = self.sess.run([self._train_op, self.loss],\n",
    "                                     feed_dict={self.s: batch_memory[:, :self.n_features],\n",
    "                                                self.q_target: q_target})\n",
    "\n",
    "        # increasing epsilon\n",
    "        self.epsilon = self.epsilon + self.epsilon_increment if self.epsilon < self.epsilon_max else self.epsilon_max\n",
    "        self.learn_step_counter += 1\n",
    "        return self.loss_val\n"
   ]
  },
  {
   "cell_type": "code",
   "execution_count": 3,
   "metadata": {
    "colab": {
     "base_uri": "https://localhost:8080/",
     "height": 623
    },
    "colab_type": "code",
    "id": "Eo2XBdh6qVbO",
    "outputId": "32a61883-b32c-4f08-d262-6ecabdf991ab"
   },
   "outputs": [
    {
     "name": "stderr",
     "output_type": "stream",
     "text": [
      "c:\\users\\patrick\\envs\\course\\lib\\site-packages\\gym\\envs\\registration.py:17: PkgResourcesDeprecationWarning: Parameters to load are deprecated.  Call .resolve and .require separately.\n",
      "  result = entry_point.load(False)\n"
     ]
    },
    {
     "name": "stdout",
     "output_type": "stream",
     "text": [
      "episode  0  finished\n",
      "episode  1  finished\n",
      "episode  2  finished\n",
      "episode  3  finished\n",
      "episode  4  finished\n",
      "episode  5  finished\n",
      "episode  6  finished\n",
      "episode  7  finished\n",
      "episode  8  finished\n",
      "episode  9  finished\n",
      "episode  10  finished\n",
      "episode  11  finished\n",
      "episode  12  finished\n",
      "episode  13  finished\n",
      "episode  14  finished\n",
      "episode  15  finished\n",
      "episode  16  finished\n",
      "episode  17  finished\n",
      "episode  18  finished\n",
      "episode  19  finished\n",
      "episode  20  finished\n",
      "episode  21  finished\n",
      "episode  22  finished\n",
      "episode  23  finished\n",
      "episode  24  finished\n",
      "episode  25  finished\n",
      "episode  26  finished\n",
      "episode  27  finished\n",
      "episode  28  finished\n",
      "episode  29  finished\n"
     ]
    }
   ],
   "source": [
    "import gym\n",
    "import matplotlib.pyplot as plt\n",
    "import tensorflow as tf\n",
    "import numpy as np\n",
    "\n",
    "tf.reset_default_graph()\n",
    "\n",
    "env = gym.make('MountainCar-v0')\n",
    "#There are 3 actions: push left, no push and push right\n",
    "n_actions = 3\n",
    "#There are 2 features: position and velocity\n",
    "n_features = 2\n",
    "env = env.unwrapped\n",
    "MEMORY_SIZE = 1000\n",
    "\n",
    "def train(RL, n_episodes):\n",
    "    total_steps = 0\n",
    "    steps = []\n",
    "    reward_history = []\n",
    "    loss_history = []\n",
    "\n",
    "    for i_episode in range(n_episodes):\n",
    "        observation = env.reset()\n",
    "        episode_reward = 0\n",
    "        episode_steps = 0\n",
    "        while True:\n",
    "            # env.render()\n",
    "\n",
    "            action = RL.choose_action(observation)\n",
    "\n",
    "            observation_, reward, done, info = env.step(action)\n",
    "            episode_reward = episode_reward + reward\n",
    "\n",
    "            RL.store_transition(observation, action, reward, observation_)\n",
    "\n",
    "            if total_steps > MEMORY_SIZE:\n",
    "              loss = RL.learn()\n",
    "              loss_history.append(loss)\n",
    "\n",
    "            if done:\n",
    "                print('episode ', i_episode, ' finished')\n",
    "                steps.append(episode_steps)\n",
    "                reward_history.append(episode_reward)\n",
    "                break\n",
    "\n",
    "            observation = observation_\n",
    "            total_steps += 1\n",
    "            episode_steps += 1\n",
    "    return steps, loss_history, reward_history\n",
    "  \n",
    "RL = DeepQNetwork(n_actions, n_features,\n",
    "                  learning_rate=0.01,\n",
    "                  reward_decay=0.9,\n",
    "                  e_greedy=0.9,\n",
    "                  replace_target_iter=200,\n",
    "                  memory_size=2000,\n",
    "                  # output_graph=True\n",
    "                  )\n",
    "\n",
    "n_episodes = 30\n",
    "steps, loss_history, reward_history = train(RL, n_episodes)\n",
    "\n"
   ]
  },
  {
   "cell_type": "code",
   "execution_count": 4,
   "metadata": {
    "colab": {
     "base_uri": "https://localhost:8080/",
     "height": 1050
    },
    "colab_type": "code",
    "id": "xBxco52k-uAM",
    "outputId": "87de8cb8-6d35-4670-c292-698fdb7de04a"
   },
   "outputs": [
    {
     "data": {
      "image/png": "[encoded data removed]",
      "text/plain": [
       "<Figure size 432x288 with 1 Axes>"
      ]
     },
     "metadata": {
      "needs_background": "light"
     },
     "output_type": "display_data"
    },
    {
     "data": {
      "image/png": "[encoded data removed]",
      "text/plain": [
       "<Figure size 432x288 with 1 Axes>"
      ]
     },
     "metadata": {
      "needs_background": "light"
     },
     "output_type": "display_data"
    },
    {
     "data": {
      "image/png": "[encoded data removed]",
      "text/plain": [
       "<Figure size 432x288 with 1 Axes>"
      ]
     },
     "metadata": {
      "needs_background": "light"
     },
     "output_type": "display_data"
    }
   ],
   "source": [
    "import matplotlib.pyplot as plt\n",
    "plt.plot(np.arange(len(loss_history)), loss_history)\n",
    "plt.ylabel('loss')\n",
    "plt.xlabel('training steps')\n",
    "plt.show()\n",
    "\n",
    "plt.plot(np.arange(len(reward_history)), reward_history)\n",
    "plt.ylabel('total reward')\n",
    "plt.xlabel('episode no')\n",
    "plt.show()\n",
    "\n",
    "plt.plot(np.arange(len(steps)), steps)\n",
    "plt.ylabel('total steps')\n",
    "plt.xlabel('episode no')\n",
    "plt.show()\n",
    "\n"
   ]
  },
  {
   "cell_type": "code",
   "execution_count": null,
   "metadata": {},
   "outputs": [],
   "source": []
  }
 ],
 "metadata": {
  "colab": {
   "collapsed_sections": [],
   "name": "Untitled0.ipynb",
   "provenance": [],
   "version": "0.3.2"
  },
  "kernelspec": {
   "display_name": "Python 3",
   "language": "python",
   "name": "python3"
  },
  "language_info": {
   "codemirror_mode": {
    "name": "ipython",
    "version": 3
   },
   "file_extension": ".py",
   "mimetype": "text/x-python",
   "name": "python",
   "nbconvert_exporter": "python",
   "pygments_lexer": "ipython3",
   "version": "3.6.6"
  }
 },
 "nbformat": 4,
 "nbformat_minor": 1
}
